{
  "cells": [
    {
      "cell_type": "markdown",
      "metadata": {
        "id": "view-in-github",
        "colab_type": "text"
      },
      "source": [
        "<a href=\"https://colab.research.google.com/github/CJChen1010/CoLab-Practices/blob/main/Practice_Markdown.ipynb\" target=\"_parent\"><img src=\"https://colab.research.google.com/assets/colab-badge.svg\" alt=\"Open In Colab\"/></a>"
      ]
    },
    {
      "cell_type": "markdown",
      "metadata": {
        "id": "5-UMrflR939z"
      },
      "source": [
        "## Practice Markdown"
      ]
    },
    {
      "cell_type": "markdown",
      "metadata": {
        "id": "IJX1HeAC9391"
      },
      "source": [
        "This notebook lets you experiment with producing repeatable technical documentation.  Use this notebook to do the following actions:\n",
        "\n",
        "* Create a code cell and print a Python Hello World statement:  `print(\"hello world\")`\n",
        "* Create a Markdown Cell and add a Title using `#` and then a statement using plain text.  You can looks at the source code for this cell to get an idea of how to use Markdown.\n",
        "* Take some ideas from the [Master Markdown Github Guide](https://guides.github.com/features/mastering-markdown/) and implement them here.\n",
        "* Download this notebook as a `.ipynb` file and check into a Github Project.  You can [see an example here](https://github.com/noahgift/duke-coursera-ccf-lab1/blob/main/Practice-Markdown.ipynb).\n",
        "* Open your notebook in Google Colab and save it into the same Github Project.  You can [see an example here](https://github.com/noahgift/duke-coursera-ccf-lab1/blob/main/Practice_Markdown_with_colab.ipynb).\n"
      ]
    },
    {
      "cell_type": "code",
      "execution_count": 6,
      "metadata": {
        "colab": {
          "base_uri": "https://localhost:8080/",
          "height": 35
        },
        "id": "N4WxgZJC9392",
        "outputId": "062878bf-6c98-4205-c712-2646f1eed84e"
      },
      "outputs": [
        {
          "output_type": "execute_result",
          "data": {
            "application/vnd.google.colaboratory.intrinsic+json": {
              "type": "string"
            },
            "text/plain": [
              "'hello world'"
            ]
          },
          "metadata": {},
          "execution_count": 6
        }
      ],
      "source": [
        "def hello():\n",
        "  return(\"hello world\")\n",
        "\n",
        "hello()"
      ]
    },
    {
      "cell_type": "markdown",
      "metadata": {
        "id": "2wt2Owwp9394"
      },
      "source": [
        "# Markdown tutorial\n",
        "This is a practice of using Markdown."
      ]
    },
    {
      "cell_type": "markdown",
      "metadata": {
        "id": "9MIoEGnf9394"
      },
      "source": [
        "## Styling"
      ]
    },
    {
      "cell_type": "markdown",
      "metadata": {
        "id": "fMMVnAp39394"
      },
      "source": [
        "* Bold, ex: **It's a bold text**\n",
        "* Italic, ex: *It's italicalized*\n",
        "* Strikethrough, ex: ~~It's striked.~~\n",
        "* Bold+nested Itatlic, ex: **It's bold and _italicized_.**\n",
        "* Bold+Itatlic, ex: ***It's all bold and italic.***"
      ]
    },
    {
      "cell_type": "markdown",
      "metadata": {
        "id": "N4ZNmO4l9394"
      },
      "source": [
        "## quoting text"
      ]
    },
    {
      "cell_type": "markdown",
      "metadata": {
        "id": "95Yt_r-U9395"
      },
      "source": [
        "> This is a quote."
      ]
    },
    {
      "cell_type": "markdown",
      "metadata": {
        "id": "OHwjAhBx9395"
      },
      "source": [
        "## quoting code"
      ]
    },
    {
      "cell_type": "markdown",
      "metadata": {
        "id": "O04l-ttd9396"
      },
      "source": [
        "* Use backticks to change texts into codes.\n",
        "ex: Press `command` or `ctr + e` to insert backticks to add a code block within a line of Markdown. \n",
        "* To format code or text into its own distinct block, use triple backticks. \n",
        "ex: Some basic Git commands are:\n",
        "```\n",
        "git status\n",
        "git add\n",
        "git commit\n",
        "```"
      ]
    },
    {
      "cell_type": "markdown",
      "metadata": {
        "id": "PZxS6DWR9396"
      },
      "source": [
        "## links"
      ]
    },
    {
      "cell_type": "markdown",
      "metadata": {
        "id": "o6KB5STV9397"
      },
      "source": [
        "You can create an inline link by wrapping link text in brackets [ ], and then wrapping the URL in parentheses ( ). You can also use the keyboard shortcut `command + k` to create a link. When you have text selected, you can paste a URL from your clipboard to automatically create a link from the selection."
      ]
    },
    {
      "cell_type": "markdown",
      "metadata": {
        "id": "5dNYLV2O9397"
      },
      "source": [
        "This site was built using [GitHub Pages](https://pages.github.com/)."
      ]
    },
    {
      "cell_type": "markdown",
      "metadata": {
        "id": "jOSDT3uC9397"
      },
      "source": [
        "### relative links\n",
        "`[Contribution guidelines for this project](docs/CONTRIBUTING.md)`"
      ]
    },
    {
      "cell_type": "markdown",
      "metadata": {
        "id": "cYp_psAC9397"
      },
      "source": [
        "## Images"
      ]
    },
    {
      "cell_type": "markdown",
      "metadata": {
        "id": "tLz901WC9397"
      },
      "source": [
        "You can display an image by adding `!` and wrapping the alt text in`[ ]`. Then wrap the link for the image in parentheses `()`.\n",
        "```\n",
        "![This is an image](https://myoctocat.com/assets/images/base-octocat.svg)\n",
        "```"
      ]
    },
    {
      "cell_type": "markdown",
      "metadata": {
        "id": "gUP26ilx9398"
      },
      "source": [
        "## Lists"
      ]
    },
    {
      "cell_type": "markdown",
      "metadata": {
        "id": "Eij1VSKa9398"
      },
      "source": [
        "You can make an unordered list by preceding one or more lines of text with `-` or `*`.\n",
        "```\n",
        "- George Washington\n",
        "- John Adams\n",
        "- Thomas Jefferson\n",
        "```"
      ]
    },
    {
      "cell_type": "markdown",
      "metadata": {
        "id": "QJi6QZCB9398"
      },
      "source": [
        "- George Washington\n",
        "- John Adams\n",
        "- Thomas Jefferson"
      ]
    },
    {
      "cell_type": "markdown",
      "metadata": {
        "id": "6V8GSy0f9398"
      },
      "source": [
        "To order your list, precede each line with a number.\n",
        "```\n",
        "1. George Washington\n",
        "2. John Adams\n",
        "3. Thomas Jefferson\n",
        "```"
      ]
    },
    {
      "cell_type": "markdown",
      "metadata": {
        "id": "CxVY6nyx9398"
      },
      "source": [
        "1. George Washington\n",
        "2. John Adams\n",
        "3. Thomas Jefferson"
      ]
    },
    {
      "cell_type": "markdown",
      "metadata": {
        "id": "NK3gDfnD9398"
      },
      "source": [
        "### Nested lists\n",
        "You can create a nested list by indenting one or more list items below another item.\n",
        "\n",
        "To create a nested list using the web editor on GitHub or a text editor that uses a monospaced font, like Atom, you can align your list visually. Type space characters in front of your nested list item, until the list marker character (`-` or `*`) lies directly below the first character of the text in the item above it.\n",
        "```\n",
        "1. First list item\n",
        "   - First nested list item\n",
        "     - Second nested list item\n",
        "```"
      ]
    },
    {
      "cell_type": "markdown",
      "metadata": {
        "id": "JRUsenNG9398"
      },
      "source": [
        "1. First list item\n",
        "   - First nested list item\n",
        "     - Second nested list item"
      ]
    },
    {
      "cell_type": "markdown",
      "metadata": {
        "id": "ilvmhqyd9399"
      },
      "source": [
        "### Task lists\n",
        "To create a task list, preface list items with a regular space character followed by [ ]. To mark a task as complete, use [x].\n",
        "```\n",
        "- [x] #739\n",
        "- [ ] https://github.com/octo-org/octo-repo/issues/740\n",
        "- [ ] Add delight to the experience when all tasks are complete :tada:\n",
        "```"
      ]
    },
    {
      "cell_type": "markdown",
      "metadata": {
        "id": "EyC7Y3p09399"
      },
      "source": [
        "- [x] #739\n",
        "- [ ] https://github.com/octo-org/octo-repo/issues/740\n",
        "- [ ] Add delight to the experience when all tasks are complete :tada:"
      ]
    },
    {
      "cell_type": "markdown",
      "metadata": {
        "id": "6E9Sx9s19399"
      },
      "source": [
        ""
      ]
    },
    {
      "cell_type": "markdown",
      "metadata": {
        "id": "Jrou_Ztr9399"
      },
      "source": [
        ""
      ]
    }
  ],
  "metadata": {
    "kernelspec": {
      "display_name": "Python 3",
      "language": "python",
      "name": "python3"
    },
    "language_info": {
      "codemirror_mode": {
        "name": "ipython",
        "version": 3
      },
      "file_extension": ".py",
      "mimetype": "text/x-python",
      "name": "python",
      "nbconvert_exporter": "python",
      "pygments_lexer": "ipython3",
      "version": "3.7.6"
    },
    "colab": {
      "name": "Practice-Markdown.ipynb",
      "provenance": [],
      "include_colab_link": true
    }
  },
  "nbformat": 4,
  "nbformat_minor": 0
}